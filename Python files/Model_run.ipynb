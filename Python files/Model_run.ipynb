{
 "cells": [
  {
   "cell_type": "code",
   "execution_count": 16,
   "metadata": {},
   "outputs": [
    {
     "name": "stdout",
     "output_type": "stream",
     "text": [
      "The autoreload extension is already loaded. To reload it, use:\n",
      "  %reload_ext autoreload\n"
     ]
    }
   ],
   "source": [
    "import sys\n",
    "import os\n",
    "\n",
    "sys.path.append('../../../..')\n",
    "\n",
    "# Import basic livsim modules\n",
    "from livsim import Cow\n",
    "from livsim import FeedStorage\n",
    "from livsim import Feed\n",
    "\n",
    "from Model_define import Model\n",
    "from Simulation_engine import sim_engine as sim\n",
    "from data_visual import data_visual as vis\n",
    "\n",
    "# Matplot\n",
    "import matplotlib as mpl\n",
    "import matplotlib.pyplot as plt\n",
    "from matplotlib.pyplot import figure\n",
    "from matplotlib.pyplot import Axes\n",
    "from pathlib import Path\n",
    "from scipy.stats import norm\n",
    "from scipy.stats import gamma\n",
    "from matplotlib import rcParams\n",
    "from matplotlib.patches import Patch\n",
    "from matplotlib import lines\n",
    "from matplotlib.lines import Line2D\n",
    "\n",
    "# Import other miscelleneous packages\n",
    "import yaml\n",
    "import datetime\n",
    "import time\n",
    "import math\n",
    "import random\n",
    "import warnings\n",
    "\n",
    "import numpy as np\n",
    "import pandas as pd\n",
    "import xlrd \n",
    "import textwrap\n",
    "import csv\n",
    "\n",
    "rcParams['mathtext.default'] = 'regular'\n",
    "\n",
    "%matplotlib inline\n",
    "\n",
    "\n",
    "plt.style.use('seaborn-darkgrid')\n",
    "\n",
    "ticklabelpad = mpl.rcParams['xtick.major.pad']\n",
    "\n",
    "%load_ext autoreload\n",
    "%autoreload 2\n",
    "\n",
    "cwd = os.getcwd()\n",
    "cwd\n",
    "\n",
    "# mean days per month\n",
    "DPM = 30\n",
    "\n",
    "\n",
    "pd.set_option('display.max_columns', None)\n",
    "pd.set_option('display.max_rows', None)\n"
   ]
  },
  {
   "cell_type": "code",
   "execution_count": 17,
   "metadata": {},
   "outputs": [],
   "source": [
    "# Basic model run\n",
    "\n",
    "'''\n",
    "Run model instance for scenarios described in text\n",
    "'''\n",
    "\n",
    "# Define model 'm' with 12 year horizon, based on scenaris 'Scenario set', for LPS 'MRT' and 'MRH'\n",
    "m = Model(1,12,'Scenario set',['MRT','MRH']) \n",
    "\n",
    "# Is sub-sectoral disaggregation included, specified as no (0)\n",
    "m.sub_sector(0)\n",
    "\n",
    "# is model regionally disaggregated, specified as yes (1)\n",
    "m.regional(1)\n",
    "\n",
    "# Production targets included in model, specify as yes(1)\n",
    "m.prod_target(1)\n",
    "       \n",
    "# umber of production targets included in model, specify as 2   \n",
    "m.number_prod_targets(2)\n",
    "\n",
    "# Define districts simulated (MF = Mufinid, MM = Mvomero, NB = Njombe, RW = Rungwe)\n",
    "m.region(['MF','MM','NB','RW'])\n",
    "\n",
    "# Is land constraint included, specify as yes (1)\n",
    "m.land_constraint(1)\n",
    "\n",
    "# Number of iterations of monte carlo simulations, set as 1000\n",
    "m.mc_sims(1000)\n",
    "\n",
    "# Breeds to be included as set (defaults are local and/or improved)\n",
    "m.list_breeds(['local','improved'])\n",
    "\n",
    "# cohorts to be included as set \n",
    "all_cohorts=['cow','bull','heifer','ml_calf','fe_calf','juv_male']\n",
    "\n",
    "m.list_cohorts(all_cohorts)"
   ]
  },
  {
   "cell_type": "code",
   "execution_count": null,
   "metadata": {},
   "outputs": [],
   "source": [
    "# Run model and store output in dataframe\n",
    "output_df  = m.run()"
   ]
  }
 ],
 "metadata": {
  "kernelspec": {
   "display_name": "Python 3",
   "language": "python",
   "name": "python3"
  },
  "language_info": {
   "codemirror_mode": {
    "name": "ipython",
    "version": 3
   },
   "file_extension": ".py",
   "mimetype": "text/x-python",
   "name": "python",
   "nbconvert_exporter": "python",
   "pygments_lexer": "ipython3",
   "version": "3.6.8"
  }
 },
 "nbformat": 4,
 "nbformat_minor": 2
}
